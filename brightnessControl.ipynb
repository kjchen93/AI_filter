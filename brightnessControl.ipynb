{
 "cells": [
  {
   "cell_type": "markdown",
   "id": "ac306595",
   "metadata": {},
   "source": [
    "# Another Instagram Filter (AI-Filter)"
   ]
  },
  {
   "cell_type": "markdown",
   "id": "1cedc613",
   "metadata": {},
   "source": [
    "## Import Dependencies"
   ]
  },
  {
   "cell_type": "code",
   "execution_count": 1,
   "id": "e16a3a3c",
   "metadata": {},
   "outputs": [],
   "source": [
    "import cv2\n",
    "import mediapipe as mp\n",
    "import math\n",
    "from math import hypot\n",
    "import numpy as np\n",
    "from statistics import mean"
   ]
  },
  {
   "cell_type": "markdown",
   "id": "5c25aca9",
   "metadata": {},
   "source": [
    "##  Declare functions"
   ]
  },
  {
   "cell_type": "code",
   "execution_count": 11,
   "id": "fa07b674",
   "metadata": {},
   "outputs": [],
   "source": [
    "def pencil_sketch_grey(img):\n",
    "    #inbuilt function to create sketch effect in colour and greyscale\n",
    "    sk_gray, sk_color = cv2.pencilSketch(img, sigma_s=60, sigma_r=0.07, shade_factor=0.1) \n",
    "    return  sk_gray\n",
    "\n",
    "def sepia(img):\n",
    "    img_sepia = np.array(img, dtype=np.float64) # converting to float to prevent loss\n",
    "    img_sepia = cv2.transform(img_sepia, np.matrix([[0.272, 0.534, 0.131],\n",
    "                                    [0.349, 0.686, 0.168],\n",
    "                                    [0.393, 0.769, 0.189]])) # multipying image with special sepia matrix\n",
    "    img_sepia[np.where(img_sepia > 255)] = 255 # normalizing values greater than 255 to 255\n",
    "    img_sepia = np.array(img_sepia, dtype=np.uint8)\n",
    "    return img_sepia\n",
    "\n",
    "def changeBright(img, beta_value ):\n",
    "    img_bright = cv2.convertScaleAbs(img, beta=beta_value)\n",
    "    return img_bright"
   ]
  },
  {
   "cell_type": "markdown",
   "id": "639ec972",
   "metadata": {},
   "source": [
    "## Video Feed"
   ]
  },
  {
   "cell_type": "code",
   "execution_count": 15,
   "id": "339265a0",
   "metadata": {},
   "outputs": [
    {
     "ename": "ValueError",
     "evalue": "not enough values to unpack (expected 3, got 2)",
     "output_type": "error",
     "traceback": [
      "\u001b[1;31m---------------------------------------------------------------------------\u001b[0m",
      "\u001b[1;31mValueError\u001b[0m                                Traceback (most recent call last)",
      "\u001b[1;32m~\\AppData\\Local\\Temp\\ipykernel_29268\\283322809.py\u001b[0m in \u001b[0;36m<module>\u001b[1;34m\u001b[0m\n\u001b[0;32m     31\u001b[0m             \u001b[1;32mfor\u001b[0m \u001b[0mid\u001b[0m\u001b[1;33m,\u001b[0m\u001b[0mlm\u001b[0m \u001b[1;32min\u001b[0m \u001b[0menumerate\u001b[0m\u001b[1;33m(\u001b[0m\u001b[0mhandlandmark\u001b[0m\u001b[1;33m.\u001b[0m\u001b[0mlandmark\u001b[0m\u001b[1;33m)\u001b[0m\u001b[1;33m:\u001b[0m \u001b[1;31m#adding counter and returning it\u001b[0m\u001b[1;33m\u001b[0m\u001b[1;33m\u001b[0m\u001b[0m\n\u001b[0;32m     32\u001b[0m                 \u001b[1;31m# Get finger joint points\u001b[0m\u001b[1;33m\u001b[0m\u001b[1;33m\u001b[0m\u001b[1;33m\u001b[0m\u001b[0m\n\u001b[1;32m---> 33\u001b[1;33m                 \u001b[0mh\u001b[0m\u001b[1;33m,\u001b[0m\u001b[0mw\u001b[0m\u001b[1;33m,\u001b[0m\u001b[0m_\u001b[0m \u001b[1;33m=\u001b[0m \u001b[0mimg\u001b[0m\u001b[1;33m.\u001b[0m\u001b[0mshape\u001b[0m\u001b[1;33m\u001b[0m\u001b[1;33m\u001b[0m\u001b[0m\n\u001b[0m\u001b[0;32m     34\u001b[0m                 \u001b[0mcx\u001b[0m\u001b[1;33m,\u001b[0m\u001b[0mcy\u001b[0m \u001b[1;33m=\u001b[0m \u001b[0mint\u001b[0m\u001b[1;33m(\u001b[0m\u001b[0mlm\u001b[0m\u001b[1;33m.\u001b[0m\u001b[0mx\u001b[0m\u001b[1;33m*\u001b[0m\u001b[0mw\u001b[0m\u001b[1;33m)\u001b[0m\u001b[1;33m,\u001b[0m\u001b[0mint\u001b[0m\u001b[1;33m(\u001b[0m\u001b[0mlm\u001b[0m\u001b[1;33m.\u001b[0m\u001b[0my\u001b[0m\u001b[1;33m*\u001b[0m\u001b[0mh\u001b[0m\u001b[1;33m)\u001b[0m\u001b[1;33m\u001b[0m\u001b[1;33m\u001b[0m\u001b[0m\n\u001b[0;32m     35\u001b[0m                 \u001b[0mls_lm\u001b[0m\u001b[1;33m.\u001b[0m\u001b[0mappend\u001b[0m\u001b[1;33m(\u001b[0m\u001b[1;33m[\u001b[0m\u001b[0mid\u001b[0m\u001b[1;33m,\u001b[0m\u001b[0mcx\u001b[0m\u001b[1;33m,\u001b[0m\u001b[0mcy\u001b[0m\u001b[1;33m]\u001b[0m\u001b[1;33m)\u001b[0m \u001b[1;31m#adding to the empty list 'ls_lm'\u001b[0m\u001b[1;33m\u001b[0m\u001b[1;33m\u001b[0m\u001b[0m\n",
      "\u001b[1;31mValueError\u001b[0m: not enough values to unpack (expected 3, got 2)"
     ]
    }
   ],
   "source": [
    "mpHands = mp.solutions.hands #detects hand/finger\n",
    "hands = mpHands.Hands()   #complete the initialization configuration of hands\n",
    "mpDraw = mp.solutions.drawing_utils\n",
    "\n",
    "volbar=350\n",
    "volper=0\n",
    "\n",
    "angle_max = 250\n",
    "k = 1.8\n",
    "angle = 120\n",
    "length = 100\n",
    "brightness = 0\n",
    "r_dial = 50\n",
    "mode = 0\n",
    "cap = cv2.VideoCapture(0) \n",
    "while True:\n",
    "    _,img = cap.read()\n",
    "    imgRGB = cv2.cvtColor(img,cv2.COLOR_BGR2RGB)\n",
    "    img = changeBright(img, brightness)\n",
    "    #Collection of gesture information\n",
    "    results = hands.process(imgRGB) \n",
    "    \n",
    "    #if mode == 1:\n",
    "        \n",
    "    img = pencil_sketch_grey(img)\n",
    " \n",
    "    ls_lm = [] #empty list\n",
    "    if results.multi_hand_landmarks: #list of all hands detected.\n",
    "        #By accessing the list, we can get the information of each hand's corresponding flag bit\n",
    "        for handlandmark in results.multi_hand_landmarks:\n",
    "            for id,lm in enumerate(handlandmark.landmark): #adding counter and returning it\n",
    "                # Get finger joint points\n",
    "                h,w,_ = img.shape\n",
    "                cx,cy = int(lm.x*w),int(lm.y*h)\n",
    "                ls_lm.append([id,cx,cy]) #adding to the empty list 'ls_lm'\n",
    "            mpDraw.draw_landmarks(img,handlandmark,mpHands.HAND_CONNECTIONS)\n",
    "    \n",
    "    if ls_lm != []:\n",
    "        x_0,y_0 = ls_lm[0][1],ls_lm[0][2] # wrist\n",
    "        x_4,y_4 = ls_lm[4][1],ls_lm[4][2] # thumb tip\n",
    "        x_5,y_5 = ls_lm[5][1],ls_lm[5][2] # index finger mcp\n",
    "        x_8,y_8 = ls_lm[8][1],ls_lm[8][2] # index finger tip\n",
    "        x_9,y_9 = ls_lm[9][1],ls_lm[9][2] # middle finger mcp\n",
    "        x_12,y_12 = ls_lm[12][1],ls_lm[12][2] # middle finger tip\n",
    "        x_16,y_16 = ls_lm[16][1],ls_lm[16][2] # ring finger tip\n",
    "        x_20,y_20 = ls_lm[20][1],ls_lm[20][2] # pinky finger tip\n",
    "\n",
    "        x_palm = x_9#int(x_0 + (x_4-x_0)/3)\n",
    "        y_palm = y_9#int(y_5 + (y_0-y_5)/2.3)\n",
    "        \n",
    "        s_4 = hypot(x_4-x_palm, y_4-y_palm)\n",
    "        s_8 = hypot(x_8-x_palm, y_8-y_palm)\n",
    "        s_12 = hypot(x_12-x_palm, y_12-y_palm)\n",
    "        s_16 = hypot(x_16-x_palm, y_16-y_palm)\n",
    "        s_20 = hypot(x_20-x_palm, y_20-y_palm)\n",
    "        \n",
    "        s_mean = mean([s_4, s_8, s_12, s_16, s_20])\n",
    "        \n",
    "        if (s_mean <= r_dial + 10) and (s_mean >= r_dial -10):\n",
    "            x_bar = x_4-x_12\n",
    "            y_bar = y_4-y_12\n",
    "            z_bar = hypot(x_bar,y_bar) + 1\n",
    "            ls_dial.append([x_bar,y_bar])\n",
    "           # if ls_dial != []: \n",
    "            #    if x_bar > ls_dial[0][0]: # turning clockwise\n",
    "             #       angle_bar = math.degrees(np.arcsin(x_bar/z_bar))\n",
    "            angle_bar = math.degrees(np.arcsin(x_bar/z_bar))\n",
    "            length = int((angle_bar*2.8/angle_max)*250)\n",
    "            cv2.circle(img, (x_palm, y_palm ),r_dial,(255,0,255), 5)\n",
    "            brightness = np.interp(length,[0,250],[-100,100])\n",
    "            img = changeBright(img, brightness)\n",
    "        if s_mean < 30:\n",
    "            mode = 1\n",
    "        \n",
    "        volbar=np.interp(length,[0,250],[350,100])\n",
    "        volper=np.interp(length,[0,250],[0,100])\n",
    "\n",
    "    cv2.rectangle(img,(550,100),(600,350),(0,0,255,0.1),4)\n",
    "    cv2.rectangle(img,(550,int(volbar)),(600,350),(255,0,255,0.3),cv2.FILLED)\n",
    "    cv2.putText(img,f\"Brightness: {int(volper)}%\",(10,40),cv2.FONT_ITALIC,1,(0, 255, 120),3)\n",
    "    cv2.imshow('Image',img)\n",
    "    if cv2.waitKey(1) & 0xff==ord('q'):\n",
    "        break\n",
    "        \n",
    "cap.release()     #stop cam       \n",
    "cv2.destroyAllWindows() #close window"
   ]
  },
  {
   "cell_type": "markdown",
   "id": "a158a86c",
   "metadata": {},
   "source": [
    "### Stop Camera and Close All Windows\n",
    "\n",
    "Run this cell in case the video capture bugs and you can't close the image window"
   ]
  },
  {
   "cell_type": "code",
   "execution_count": 16,
   "id": "4f06f6ee",
   "metadata": {},
   "outputs": [],
   "source": [
    "cap.release()  \n",
    "cv2.destroyAllWindows()"
   ]
  },
  {
   "cell_type": "code",
   "execution_count": null,
   "id": "5e54a597",
   "metadata": {},
   "outputs": [],
   "source": []
  }
 ],
 "metadata": {
  "kernelspec": {
   "display_name": "aif",
   "language": "python",
   "name": "aif"
  },
  "language_info": {
   "codemirror_mode": {
    "name": "ipython",
    "version": 3
   },
   "file_extension": ".py",
   "mimetype": "text/x-python",
   "name": "python",
   "nbconvert_exporter": "python",
   "pygments_lexer": "ipython3",
   "version": "3.7.13"
  }
 },
 "nbformat": 4,
 "nbformat_minor": 5
}
