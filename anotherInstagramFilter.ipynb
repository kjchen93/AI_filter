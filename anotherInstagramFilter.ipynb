{
 "cells": [
  {
   "cell_type": "markdown",
   "id": "ac306595",
   "metadata": {},
   "source": [
    "# Another Instagram Filter (AI-Filter)\n",
    "\n",
    "The main and only script of the project"
   ]
  },
  {
   "cell_type": "markdown",
   "id": "0318eb33",
   "metadata": {},
   "source": [
    "## Camera Check\n",
    "\n",
    "Run this only from JETSON NANO"
   ]
  },
  {
   "cell_type": "code",
   "execution_count": 44,
   "id": "1ccf68da",
   "metadata": {},
   "outputs": [
    {
     "name": "stderr",
     "output_type": "stream",
     "text": [
      "ls: /dev/video*: No such file or directory\n"
     ]
    }
   ],
   "source": [
    "!ls -ltrh /dev/video*"
   ]
  },
  {
   "cell_type": "code",
   "execution_count": 45,
   "id": "c01418e5",
   "metadata": {},
   "outputs": [
    {
     "ename": "SyntaxError",
     "evalue": "invalid syntax (3238188964.py, line 3)",
     "output_type": "error",
     "traceback": [
      "\u001b[1;36m  File \u001b[1;32m\"C:\\Users\\kjche\\AppData\\Local\\Temp\\ipykernel_31416\\3238188964.py\"\u001b[1;36m, line \u001b[1;32m3\u001b[0m\n\u001b[1;33m    camera = USBCamera(width = 224, capture_width = 640, capture height = 480, capture_device= 0)\u001b[0m\n\u001b[1;37m                                                                      ^\u001b[0m\n\u001b[1;31mSyntaxError\u001b[0m\u001b[1;31m:\u001b[0m invalid syntax\n"
     ]
    }
   ],
   "source": [
    "from jetcam.usb_camera import USBCamera\n",
    "\n",
    "camera = USBCamera(width = 224, capture_width = 640, capture height = 480, capture_device= 0)"
   ]
  },
  {
   "cell_type": "markdown",
   "id": "1cedc613",
   "metadata": {},
   "source": [
    "## Import Dependencies"
   ]
  },
  {
   "cell_type": "code",
   "execution_count": 41,
   "id": "e16a3a3c",
   "metadata": {},
   "outputs": [],
   "source": [
    "import cv2\n",
    "import mediapipe as mp\n",
    "import math\n",
    "from math import hypot\n",
    "import numpy as np\n",
    "from statistics import mean\n",
    "import time"
   ]
  },
  {
   "cell_type": "markdown",
   "id": "5c25aca9",
   "metadata": {},
   "source": [
    "##  Declare Filter Functions"
   ]
  },
  {
   "cell_type": "code",
   "execution_count": 49,
   "id": "fa07b674",
   "metadata": {},
   "outputs": [],
   "source": [
    "# Negative Filter\n",
    "def negativeFilter(img):\n",
    "    neg = cv2.bitwise_not(img)\n",
    "    return neg\n",
    "\n",
    "# A colored sketch filter\n",
    "def colorSketchFilter(img, shade_factor = 0.07):\n",
    "    gray, color = cv2.pencilSketch(img, sigma_s=10, sigma_r=0.07, shade_factor = shade_factor) \n",
    "    return  color\n",
    "\n",
    "# Change brightness when no filter is applied\n",
    "def changeBright(img, intensity ):\n",
    "    bright = cv2.convertScaleAbs(img, beta=intensity)\n",
    "    return bright"
   ]
  },
  {
   "cell_type": "markdown",
   "id": "639ec972",
   "metadata": {},
   "source": [
    "## Main Script"
   ]
  },
  {
   "cell_type": "code",
   "execution_count": 63,
   "id": "339265a0",
   "metadata": {},
   "outputs": [],
   "source": [
    "# Initialize landmarks for hand\n",
    "mpHands = mp.solutions.hands\n",
    "hands = mpHands.Hands()\n",
    "mpDraw = mp.solutions.drawing_utils\n",
    "\n",
    "filter_val=350\n",
    "filter_intensity=0\n",
    "\n",
    "angle_max = 250\n",
    "k = 1.8\n",
    "angle = 120\n",
    "val = 100\n",
    "r_dial = 50\n",
    "\n",
    "mode = 0\n",
    "\n",
    "# filter parameters\n",
    "brightness = 0\n",
    "shade_factor = 0.07\n",
    "\n",
    "cap = cv2.VideoCapture(0)\n",
    "\n",
    "while True:\n",
    "    success,img = cap.read()\n",
    "    imgRGB = cv2.cvtColor(img,cv2.COLOR_BGR2RGB)\n",
    "    results = hands.process(imgRGB)\n",
    "    \n",
    "    # Different modes, 0 = No Filter, 1 = Sketch filter, 2 = Negative Filter\n",
    "    if mode == 0:\n",
    "        img = changeBright(img, brightness)\n",
    "    elif mode == 1:    \n",
    "        img = colorSketchFilter(img, shade_factor)\n",
    "    elif mode == 2:\n",
    "        img = negativeFilter(img)\n",
    "        img = changeBright(img, brightness)\n",
    "    \n",
    "    # Add all the landmarks of a hand to a list and draw them\n",
    "    ls_lm = []\n",
    "    if results.multi_hand_landmarks:\n",
    "        for landmark_all in results.multi_hand_landmarks:\n",
    "            for id,lm in enumerate(landmark_all.landmark):\n",
    "                h,w,_ = img.shape\n",
    "                cx,cy = int(lm.x*w),int(lm.y*h)\n",
    "                ls_lm.append([id,cx,cy])\n",
    "            mpDraw.draw_landmarks(img,landmark_all,mpHands.HAND_CONNECTIONS)\n",
    "    \n",
    "    # If hand is detected\n",
    "    if ls_lm != []:\n",
    "        x_0,y_0 = ls_lm[0][1],ls_lm[0][2] # wrist\n",
    "        x_4,y_4 = ls_lm[4][1],ls_lm[4][2] # thumb tip\n",
    "        x_5,y_5 = ls_lm[5][1],ls_lm[5][2] # index finger mcp\n",
    "        x_8,y_8 = ls_lm[8][1],ls_lm[8][2] # index finger tip\n",
    "        x_9,y_9 = ls_lm[9][1],ls_lm[9][2] # middle finger mcp\n",
    "        x_12,y_12 = ls_lm[12][1],ls_lm[12][2] # middle finger tip\n",
    "        x_16,y_16 = ls_lm[16][1],ls_lm[16][2] # ring finger tip\n",
    "        x_20,y_20 = ls_lm[20][1],ls_lm[20][2] # pinky finger tip\n",
    "        \n",
    "        # set palm senter to middle finger mcp. Makes sense in this case \n",
    "        x_palm = x_9\n",
    "        y_palm = y_9\n",
    "        \n",
    "        # Calculate the mean distance between each finger and the palm\n",
    "        s_4 = hypot(x_4-x_palm, y_4-y_palm)\n",
    "        s_8 = hypot(x_8-x_palm, y_8-y_palm)\n",
    "        s_12 = hypot(x_12-x_palm, y_12-y_palm)\n",
    "        s_16 = hypot(x_16-x_palm, y_16-y_palm)\n",
    "        s_20 = hypot(x_20-x_palm, y_20-y_palm)\n",
    "        s_mean = mean([s_4, s_8, s_12, s_16, s_20])\n",
    "        \n",
    "        # Creates a dial to adjust the filter intensity when fingers are \n",
    "        # sufficiently close to each other\n",
    "        if (s_mean <= r_dial + 10) and (s_mean >= r_dial -10):\n",
    "            x_bar = x_4-x_12\n",
    "            y_bar = y_4-y_12\n",
    "            z_bar = hypot(x_bar,y_bar) + 1\n",
    "            angle_bar = math.degrees(np.arcsin(x_bar/z_bar))\n",
    "            val = int((angle_bar*2.8/angle_max)*250)\n",
    "            cv2.circle(img, (x_palm, y_palm ),r_dial,(153,255,153), 5)\n",
    "            if mode == 0 or mode == 2:\n",
    "                brightness = np.interp(val,[0,250],[-100,100])\n",
    "            if mode == 1:\n",
    "                shade_factor = np.interp(val,[0,250], [0.01, 0.1])\n",
    "        \n",
    "        # Change filter when you close your finger tips\n",
    "        if s_mean < 25:\n",
    "            time.sleep(0.3) # add delay or filters will just swap too quickly\n",
    "            mode += 1\n",
    "            if mode > 2:\n",
    "                mode = 0\n",
    "        \n",
    "        filter_val=np.interp(val,[0,250],[350,100])\n",
    "        filter_intensity=np.interp(val,[0,250],[0,100])\n",
    "\n",
    "    cv2.rectangle(img,(550,100),(600,350),(153,255,153),4)\n",
    "    cv2.rectangle(img,(550,int(filter_val)),(600,350),(153,255,153),cv2.FILLED)\n",
    "    cv2.putText(img,f\"Filter Intensity: {int(filter_intensity)}%\",(300,50), cv2.FONT_HERSHEY_DUPLEX,1,(153,255,153),2)\n",
    "    cv2.imshow('AI Filter',img)\n",
    "    \n",
    "    # Press \"q\" to quit\n",
    "    if cv2.waitKey(1) & 0xff==ord('q'):\n",
    "        break\n",
    "        \n",
    "# close and destruct camera      \n",
    "cap.release()     \n",
    "cv2.destroyAllWindows()"
   ]
  },
  {
   "cell_type": "markdown",
   "id": "a158a86c",
   "metadata": {},
   "source": [
    "### Stop Camera and Close All Windows\n",
    "\n",
    "Run this cell in case the video capture bugs and you can't close the image window"
   ]
  },
  {
   "cell_type": "code",
   "execution_count": 47,
   "id": "4f06f6ee",
   "metadata": {},
   "outputs": [],
   "source": [
    "cap.release()  \n",
    "cv2.destroyAllWindows()"
   ]
  },
  {
   "cell_type": "code",
   "execution_count": null,
   "id": "5e54a597",
   "metadata": {},
   "outputs": [],
   "source": []
  }
 ],
 "metadata": {
  "kernelspec": {
   "display_name": "aif",
   "language": "python",
   "name": "aif"
  },
  "language_info": {
   "codemirror_mode": {
    "name": "ipython",
    "version": 3
   },
   "file_extension": ".py",
   "mimetype": "text/x-python",
   "name": "python",
   "nbconvert_exporter": "python",
   "pygments_lexer": "ipython3",
   "version": "3.7.13"
  }
 },
 "nbformat": 4,
 "nbformat_minor": 5
}
