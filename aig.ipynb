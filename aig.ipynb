{
 "cells": [
  {
   "cell_type": "code",
   "execution_count": null,
   "id": "f1ba56c1",
   "metadata": {},
   "outputs": [],
   "source": [
    "import dlib\n",
    "import cv2\n",
    "import numpy as np\n",
    "import mediapipe as mp\n",
    "from math import hypot"
   ]
  },
  {
   "cell_type": "markdown",
   "id": "9ad51e71",
   "metadata": {},
   "source": [
    "## Nose Filter"
   ]
  },
  {
   "cell_type": "code",
   "execution_count": null,
   "id": "b639ac61",
   "metadata": {},
   "outputs": [],
   "source": [
    "\n",
    "\n",
    "cap = cv2.VideoCapture(0)\n",
    "nose_image = cv2.imread(\"Resources/kittycat.png\")\n",
    "success, img = cap.read()\n",
    "rows, cols, _ = img.shape\n",
    "nose_mask = np.zeros((rows, cols), np.uint8)\n",
    "\n",
    "detector = dlib.get_frontal_face_detector()\n",
    "predictor = dlib.shape_predictor(\"Landmarks/shape_predictor_68_face_landmarks.dat\")\n",
    "\n",
    "while True:\n",
    "    success, img = cap.read()\n",
    "    nose_mask.fill(0)\n",
    "    imgGray = cv2.cvtColor(img, cv2.COLOR_BGR2GRAY)\n",
    "    faces = detector(img)\n",
    "    for face in faces:\n",
    "        landmarks = predictor(imgGray, face)\n",
    "\n",
    "        top_nose = (landmarks.part(29).x, landmarks.part(29).y)\n",
    "        center_nose = (landmarks.part(30).x, landmarks.part(30).y)\n",
    "        left_nose = (landmarks.part(31).x, landmarks.part(31).y)\n",
    "        right_nose = (landmarks.part(35).x, landmarks.part(35).y)\n",
    "\n",
    "        nose_width = int(hypot(left_nose[0] - right_nose[0],left_nose[1] - right_nose[1]) * 1.7)\n",
    "        nose_height = int(nose_width * 0.77)\n",
    "\n",
    "        top_left = (int(center_nose[0] - nose_width / 2),int(center_nose[1] - nose_height / 2))\n",
    "        bottom_right = (int(center_nose[0] + nose_width / 2),int(center_nose[1] + nose_height / 2))\n",
    "\n",
    "        nose_pig = cv2.resize(nose_image, (nose_width, nose_height))\n",
    "        nose_pig_gray = cv2.cvtColor(nose_pig, cv2.COLOR_BGR2GRAY)\n",
    "        _, nose_mask = cv2.threshold(nose_pig_gray, 25, 255, cv2.THRESH_BINARY_INV)\n",
    "\n",
    "        nose_area = img[top_left[1]: top_left[1] + nose_height,top_left[0]: top_left[0] + nose_width]\n",
    "        nose_no_area = cv2.bitwise_and(nose_area, nose_area, mask=nose_mask)\n",
    "\n",
    "        img[top_left[1]: top_left[1] + nose_height, top_left[0]: top_left[0] + nose_width] = cv2.add(nose_no_area, nose_pig)\n",
    "\n",
    "    cv2.imshow(\"Image\", img)\n",
    "    if cv2.waitKey(1) & 0xff==ord('q'):\n",
    "        break\n",
    "        \n",
    "cap.release()\n",
    "cv2.destroyAllWindows()"
   ]
  },
  {
   "cell_type": "markdown",
   "id": "5deae8ae",
   "metadata": {},
   "source": [
    "## Defrost"
   ]
  },
  {
   "cell_type": "code",
   "execution_count": null,
   "id": "6f562770",
   "metadata": {},
   "outputs": [],
   "source": [
    "def clean(img,imgSnow,pts):\n",
    "    img_mask = np.zeros_like(img)\n",
    "    cv2.circle(img_mask,(pts[0],pts[1]),pts[2],(255,255,255),-1)\n",
    "    result = cv2.bitwise_and(img,img_mask)\n",
    "\n",
    "    img_snow_mask = np.ones_like(imgSnow)\n",
    "    img_snow_mask.fill(255)\n",
    "\n",
    "    cv2.circle(img_snow_mask,(pts[0],pts[1]),pts[2],(0,0,0),-1)\n",
    "    result_snow = cv2.bitwise_and(imgSnow,img_snow_mask)\n",
    "    return cv2.bitwise_or(result,result_snow)\n",
    "\n",
    "imgSnow = cv2.imread('Resources/snow.jpg')\n",
    "imgSnow = cv2.resize(imgSnow,(640,480))\n",
    "cap = cv2.VideoCapture(cv2.CAP_DSHOW)\n",
    "\n",
    "mpHands = mp.solutions.hands \n",
    "hands = mpHands.Hands(min_detection_confidence=0.75)\n",
    "mpDraw = mp.solutions.drawing_utils\n",
    "count = 0\n",
    "points = []\n",
    "\n",
    "while True:\n",
    "    success,img = cap.read()\n",
    "    img1 = img.copy()\n",
    "    imgRGB = cv2.cvtColor(img1,cv2.COLOR_BGR2RGB)\n",
    "    results = hands.process(imgRGB)\n",
    "    \n",
    "    finalImg = cv2.addWeighted(img1,1,imgSnow,0.6,0)\n",
    "\n",
    "    lmList = []\n",
    "    if results.multi_hand_landmarks:\n",
    "        for handlandmark in results.multi_hand_landmarks:\n",
    "            for lm in handlandmark.landmark:\n",
    "                h,w,_ = img1.shape\n",
    "                lmList.append([int(lm.x*w),int(lm.y*h)])\n",
    "            x,y,w,h = cv2.boundingRect(np.array(lmList))\n",
    "            points.append([x + w // 2, y + h // 2,h // 2])\n",
    "        count = 0\n",
    "    else:\n",
    "        if count<30:\n",
    "            count+=1\n",
    "        else:\n",
    "            finalImg = cv2.addWeighted(img,1,imgSnow,0.6,0)\n",
    "            points = []\n",
    "            count=0\n",
    "\n",
    "    if len(points)!=0:\n",
    "        for pts in points:\n",
    "            finalImg = clean(img,finalImg,pts)\n",
    "    cv2.imshow('Image',finalImg)\n",
    "    if cv2.waitKey(1) & 0xff==ord('q'):\n",
    "        break\n",
    "\n",
    "cap.release()\n",
    "cv2.destroyAllWindows()"
   ]
  },
  {
   "cell_type": "code",
   "execution_count": null,
   "id": "4e169dd0",
   "metadata": {},
   "outputs": [],
   "source": [
    "cap.release()\n",
    "cv2.destroyAllWindows()"
   ]
  },
  {
   "cell_type": "code",
   "execution_count": null,
   "id": "61594ea6",
   "metadata": {},
   "outputs": [],
   "source": []
  }
 ],
 "metadata": {
  "kernelspec": {
   "display_name": "Python 3 (ipykernel)",
   "language": "python",
   "name": "python3"
  },
  "language_info": {
   "codemirror_mode": {
    "name": "ipython",
    "version": 3
   },
   "file_extension": ".py",
   "mimetype": "text/x-python",
   "name": "python",
   "nbconvert_exporter": "python",
   "pygments_lexer": "ipython3",
   "version": "3.7.11"
  }
 },
 "nbformat": 4,
 "nbformat_minor": 5
}
