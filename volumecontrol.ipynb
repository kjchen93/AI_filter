{
 "cells": [
  {
   "cell_type": "markdown",
   "id": "ac306595",
   "metadata": {},
   "source": [
    "# Another Instagram Filter (AI-Filter)"
   ]
  },
  {
   "cell_type": "markdown",
   "id": "1cedc613",
   "metadata": {},
   "source": [
    "## Import Dependencies"
   ]
  },
  {
   "cell_type": "code",
   "execution_count": 2,
   "id": "e16a3a3c",
   "metadata": {},
   "outputs": [],
   "source": [
    "import cv2\n",
    "import mediapipe as mp\n",
    "import math\n",
    "from math import hypot\n",
    "import numpy as np\n",
    "from statistics import mean"
   ]
  },
  {
   "cell_type": "markdown",
   "id": "5c25aca9",
   "metadata": {},
   "source": [
    "##  Declare functions"
   ]
  },
  {
   "cell_type": "code",
   "execution_count": 20,
   "id": "fa07b674",
   "metadata": {},
   "outputs": [],
   "source": [
    "def sepia(img):\n",
    "    img_sepia = np.array(img, dtype=np.float64) # converting to float to prevent loss\n",
    "    img_sepia = cv2.transform(img_sepia, np.matrix([[0.272, 0.534, 0.131],\n",
    "                                    [0.349, 0.686, 0.168],\n",
    "                                    [0.393, 0.769, 0.189]])) # multipying image with special sepia matrix\n",
    "    img_sepia[np.where(img_sepia > 255)] = 255 # normalizing values greater than 255 to 255\n",
    "    img_sepia = np.array(img_sepia, dtype=np.uint8)\n",
    "    return img_sepia\n",
    "\n",
    "def changeBright(img, beta_value ):\n",
    "    img_bright = cv2.convertScaleAbs(img, beta=beta_value)\n",
    "    return img_bright"
   ]
  },
  {
   "cell_type": "markdown",
   "id": "639ec972",
   "metadata": {},
   "source": [
    "## Video Feed"
   ]
  },
  {
   "cell_type": "code",
   "execution_count": 48,
   "id": "339265a0",
   "metadata": {},
   "outputs": [],
   "source": [
    "cap = cv2.VideoCapture(0) \n",
    " \n",
    "mpHands = mp.solutions.hands #detects hand/finger\n",
    "hands = mpHands.Hands()   #complete the initialization configuration of hands\n",
    "mpDraw = mp.solutions.drawing_utils\n",
    "\n",
    "volbar=400\n",
    "volper=0\n",
    "\n",
    "angle_max = 250\n",
    "k = 1.8\n",
    "angle = 120\n",
    "length = 50\n",
    "brightness = 0\n",
    "r_dial = 50\n",
    "\n",
    "while True:\n",
    "    success,img = cap.read() #If camera works capture an image\n",
    "    imgRGB = cv2.cvtColor(img,cv2.COLOR_BGR2RGB) #Convert to rgb\n",
    "    img = changeBright(img, brightness)\n",
    "    #Collection of gesture information\n",
    "    results = hands.process(imgRGB) #completes the image processing.\n",
    " \n",
    "    ls_lm = [] #empty list\n",
    "    if results.multi_hand_landmarks: #list of all hands detected.\n",
    "        #By accessing the list, we can get the information of each hand's corresponding flag bit\n",
    "        for handlandmark in results.multi_hand_landmarks:\n",
    "            for id,lm in enumerate(handlandmark.landmark): #adding counter and returning it\n",
    "                # Get finger joint points\n",
    "                h,w,_ = img.shape\n",
    "                cx,cy = int(lm.x*w),int(lm.y*h)\n",
    "                ls_lm.append([id,cx,cy]) #adding to the empty list 'ls_lm'\n",
    "            mpDraw.draw_landmarks(img,handlandmark,mpHands.HAND_CONNECTIONS)\n",
    "    \n",
    "    if ls_lm != []:\n",
    "        x_0,y_0 = ls_lm[0][1],ls_lm[0][2] # wrist\n",
    "        x_4,y_4 = ls_lm[4][1],ls_lm[4][2] # thumb tip\n",
    "        x_5,y_5 = ls_lm[5][1],ls_lm[5][2] # index finger mcp\n",
    "        x_8,y_8 = ls_lm[8][1],ls_lm[8][2] # index finger tip\n",
    "        x_9,y_9 = ls_lm[9][1],ls_lm[9][2] # middle finger mcp\n",
    "        x_12,y_12 = ls_lm[12][1],ls_lm[12][2] # middle finger tip\n",
    "        x_16,y_16 = ls_lm[16][1],ls_lm[16][2] # ring finger tip\n",
    "        x_20,y_20 = ls_lm[20][1],ls_lm[20][2] # pinky finger tip\n",
    "\n",
    "        x_palm = x_9#int(x_0 + (x_4-x_0)/3)\n",
    "        y_palm = y_9#int(y_5 + (y_0-y_5)/2.3)\n",
    "        \n",
    "        #creating circle at the tips of thumb and index finger\n",
    "        cv2.circle(img,(x_4,y_4),13,(255,0,0),cv2.FILLED) #image #fingers #radius #rgb\n",
    "        cv2.circle(img,(x_8,y_8),13,(255,0,0),cv2.FILLED) #image #fingers #radius #rgb\n",
    "        \n",
    "        x_hat = x_0-x_8\n",
    "        z_hat = hypot(x_0-x_8,y_0-y_8) + 1\n",
    "        angle_hat = math.degrees(np.arcsin(x_hat/z_hat))\n",
    "        \n",
    "        s_4 = hypot(x_4-x_palm, y_4-y_palm)\n",
    "        s_8 = hypot(x_8-x_palm, y_8-y_palm)\n",
    "        s_12 = hypot(x_12-x_palm, y_12-y_palm)\n",
    "        s_16 = hypot(x_16-x_palm, y_16-y_palm)\n",
    "        s_20 = hypot(x_20-x_palm, y_20-y_palm)\n",
    "        \n",
    "        s_mean = mean([s_4, s_8, s_12, s_16, s_20])\n",
    "        \n",
    "        if (s_mean <= r_dial + 10) and (s_mean >= r_dial -10): \n",
    "            cv2.circle(img, (x_palm, y_palm ),r_dial,(255,0,255), 5)\n",
    "            length = int((angle_hat*2.8/angle_max)*250)\n",
    "            brightness = np.interp(length,[0,250],[-100,100])\n",
    "            img = changeBright(img, brightness)\n",
    "        \n",
    "        volbar=np.interp(length,[0,250],[350,100])\n",
    "        volper=np.interp(length,[0,250],[0,100])\n",
    "\n",
    "    cv2.rectangle(img,(550,100),(600,350),(0,0,255,0.1),4)\n",
    "    cv2.rectangle(img,(550,int(volbar)),(600,350),(255,0,255,0.3),cv2.FILLED)\n",
    "    cv2.putText(img,f\"Brightness: {int(volper)}%\",(10,40),cv2.FONT_ITALIC,1,(0, 255, 120),3)\n",
    "    cv2.imshow('Image',img)\n",
    "    if cv2.waitKey(1) & 0xff==ord('q'):\n",
    "        break\n",
    "        \n",
    "cap.release()     #stop cam       \n",
    "cv2.destroyAllWindows() #close window"
   ]
  },
  {
   "cell_type": "markdown",
   "id": "a158a86c",
   "metadata": {},
   "source": [
    "### Stop Camera and Close All Windows\n",
    "\n",
    "Run this cell in case the video capture bugs and you can't close the image window"
   ]
  },
  {
   "cell_type": "code",
   "execution_count": 27,
   "id": "4f06f6ee",
   "metadata": {},
   "outputs": [],
   "source": [
    "cap.release()  \n",
    "cv2.destroyAllWindows()"
   ]
  }
 ],
 "metadata": {
  "kernelspec": {
   "display_name": "nlp",
   "language": "python",
   "name": "nlp"
  },
  "language_info": {
   "codemirror_mode": {
    "name": "ipython",
    "version": 3
   },
   "file_extension": ".py",
   "mimetype": "text/x-python",
   "name": "python",
   "nbconvert_exporter": "python",
   "pygments_lexer": "ipython3",
   "version": "3.7.11"
  }
 },
 "nbformat": 4,
 "nbformat_minor": 5
}
